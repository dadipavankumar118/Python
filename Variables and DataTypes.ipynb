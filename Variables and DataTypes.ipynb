{
 "cells": [
  {
   "cell_type": "markdown",
   "metadata": {},
   "source": [
    "## Basics of Python"
   ]
  },
  {
   "cell_type": "markdown",
   "metadata": {},
   "source": [
    "> `Question:` Print your name"
   ]
  },
  {
   "cell_type": "code",
   "execution_count": 1,
   "metadata": {},
   "outputs": [
    {
     "name": "stdout",
     "output_type": "stream",
     "text": [
      "My name is Pavankumar Dadi\n"
     ]
    }
   ],
   "source": [
    "print(\"My name is Pavankumar Dadi\") "
   ]
  },
  {
   "cell_type": "markdown",
   "metadata": {},
   "source": [
    "> `Question:` What is a variable? Write a Few words about Variables. Create a Variable with an Example. "
   ]
  },
  {
   "cell_type": "markdown",
   "metadata": {},
   "source": [
    "**Variables:-** Variables are containers for the data values.\n",
    "\n",
    "**Naming conventions for Variables:-**\n",
    "* A variable name can only contain alphabets,numbers and underscore(_).\n",
    "* A variable name must start with a letter or underscore character.\n",
    "* A variable name cannot be any of the python keywords.\n",
    "* Variable names are case-sensitive.\n",
    "* A variable name can't have any spaces between the various parts of the variable.If we want to distinguish them,we can use underscore."
   ]
  },
  {
   "cell_type": "code",
   "execution_count": 2,
   "metadata": {},
   "outputs": [],
   "source": [
    "my_Name=\"PAVANKUMAR DADI\"                "
   ]
  },
  {
   "cell_type": "markdown",
   "metadata": {},
   "source": [
    ">`Question:` Assume that we execute the following assignment statements:\n",
    "width = 17\n",
    "height = 12.0\n",
    "delimiter = '.'\n",
    "For each of the following expressions, write the value of the expression and the type (of the value of\n",
    "the expression).\n",
    "1. width/2\n",
    "2. width/2.0\n",
    "3. height/3\n",
    "4. 1 + 2 * 5\n",
    "5. delimiter * 5"
   ]
  },
  {
   "cell_type": "code",
   "execution_count": 3,
   "metadata": {},
   "outputs": [
    {
     "name": "stdout",
     "output_type": "stream",
     "text": [
      "1. width/2 = 8.5     Type- <class 'float'>\n",
      "2. width/2.0 = 8.5   Type- <class 'float'>\n",
      "3. height/3 = 4.0    Type- <class 'float'>\n",
      "4. 11                Type- <class 'int'>\n",
      "5. .....             Type- <class 'str'>\n"
     ]
    }
   ],
   "source": [
    "width=17\n",
    "height=12.0\n",
    "delimiter='.'\n",
    "value1=width/2\n",
    "value2=width/2.0\n",
    "value3=height/3\n",
    "value4=1+2*5\n",
    "value5='.'*5\n",
    "print(\"1. width/2 =\",value1,\"    Type-\",type(value1))\n",
    "print(\"2. width/2.0 =\",value2,\"  Type-\",type(value2))\n",
    "print(\"3. height/3 =\",value3,\"   Type-\",type(value3))\n",
    "print(\"4.\",value4,\"               Type-\",type(value4))\n",
    "print(\"5.\",value5,\"            Type-\",type(value5))"
   ]
  },
  {
   "cell_type": "raw",
   "metadata": {},
   "source": [
    "# Sample Outputs\n",
    "1. width/2 = 8.5\n",
    "2. width/2.0 = 8.5\n",
    "3. height/3 = 4.0\n",
    "4. 11\n",
    "5. ....."
   ]
  },
  {
   "cell_type": "markdown",
   "metadata": {},
   "source": [
    "> `Question:` Add two number by taking variable names as first and seccond"
   ]
  },
  {
   "cell_type": "code",
   "execution_count": 4,
   "metadata": {},
   "outputs": [],
   "source": [
    "first_number=7  \n",
    "second_number=18\n",
    "addition=first_number+second_number"
   ]
  },
  {
   "cell_type": "code",
   "execution_count": 5,
   "metadata": {},
   "outputs": [
    {
     "name": "stdout",
     "output_type": "stream",
     "text": [
      "first number is : 7\n",
      "second number is : 18\n",
      "Addition of two numbers are : 25\n"
     ]
    }
   ],
   "source": [
    "print(\"first number is :\",first_number)\n",
    "print(\"second number is :\",second_number)\n",
    "print(\"Addition of two numbers are :\",addition)"
   ]
  },
  {
   "cell_type": "markdown",
   "metadata": {},
   "source": [
    "> `Question:` Add your first name and second name"
   ]
  },
  {
   "cell_type": "code",
   "execution_count": 6,
   "metadata": {},
   "outputs": [],
   "source": [
    "first_name=\"Pavankumar\"                           \n",
    "second_name=\"Dadi\"\n",
    "full_name=(first_name+\" \"+second_name)"
   ]
  },
  {
   "cell_type": "code",
   "execution_count": 7,
   "metadata": {},
   "outputs": [
    {
     "name": "stdout",
     "output_type": "stream",
     "text": [
      "My first name is : Pavankumar\n",
      "My second name is : Dadi\n",
      "My full name is : Pavankumar Dadi\n"
     ]
    }
   ],
   "source": [
    "print(\"My first name is :\",first_name)\n",
    "print(\"My second name is :\",second_name)\n",
    "print(\"My full name is :\",full_name)"
   ]
  },
  {
   "cell_type": "markdown",
   "metadata": {},
   "source": [
    "> `Question:` print the datatypes of the following\n",
    "- 10,'10',True,10.5"
   ]
  },
  {
   "cell_type": "code",
   "execution_count": 8,
   "metadata": {},
   "outputs": [],
   "source": [
    "a=10                 \n",
    "b='10'\n",
    "c=True\n",
    "d=10.5"
   ]
  },
  {
   "cell_type": "code",
   "execution_count": 9,
   "metadata": {},
   "outputs": [
    {
     "name": "stdout",
     "output_type": "stream",
     "text": [
      "10 - <class 'int'>\n",
      "'10' - <class 'str'>\n",
      "True - <class 'bool'>\n",
      "10.5 - <class 'float'>\n"
     ]
    }
   ],
   "source": [
    "print(\"10 -\",type(a))\n",
    "print(\"'10' -\",type(b))\n",
    "print(\"True -\",type(c))\n",
    "print(\"10.5 -\",type(d))"
   ]
  },
  {
   "cell_type": "markdown",
   "metadata": {},
   "source": [
    " `Question:` \n",
    "> - num_int = 123\n",
    "> - num_str = \"456\"\n",
    "> - Add num_int and num_str\n",
    "- `hint: first need to convert num_str into integer`"
   ]
  },
  {
   "cell_type": "code",
   "execution_count": 10,
   "metadata": {},
   "outputs": [],
   "source": [
    "num_int=123\n",
    "num_str=\"456\"\n",
    "num_str=int(num_str)\n",
    "Addition=num_int+num_str"
   ]
  },
  {
   "cell_type": "code",
   "execution_count": 11,
   "metadata": {},
   "outputs": [
    {
     "name": "stdout",
     "output_type": "stream",
     "text": [
      "Addition of 123 and 456 is : 579\n"
     ]
    }
   ],
   "source": [
    "print(\"Addition of\",num_int,\"and\",num_str,\"is :\",Addition)"
   ]
  },
  {
   "cell_type": "markdown",
   "metadata": {},
   "source": [
    "### Advanced Questions"
   ]
  },
  {
   "cell_type": "markdown",
   "metadata": {},
   "source": [
    "> `Question:` The volume of a sphere with radius r is  4/3πr3  . What is the volume of a sphere with radius 5?"
   ]
  },
  {
   "cell_type": "code",
   "execution_count": 12,
   "metadata": {},
   "outputs": [
    {
     "name": "stdout",
     "output_type": "stream",
     "text": [
      "523.3333333333334\n"
     ]
    }
   ],
   "source": [
    "radius_of_sphere=5\n",
    "volume_of_the_sphere=4/3*3.14*radius_of_sphere**3\n",
    "print(volume_of_the_sphere)"
   ]
  },
  {
   "cell_type": "markdown",
   "metadata": {},
   "source": [
    "> `Question:` Suppose the cover price of a book is Rs.24.95, but bookstores get a 40% discount. Shipping costs Rs.3 for the first copy and 75 paise for each additional copy. What is the total wholesale cost for 60 copies?"
   ]
  },
  {
   "cell_type": "code",
   "execution_count": 13,
   "metadata": {},
   "outputs": [],
   "source": [
    "cover_price=24.95\n",
    "discount=0.4\n",
    "shipping_cost_for_the_first_copy=3\n",
    "shipping_cost_for_each_additional_copy=0.75\n",
    "total_copies=60\n",
    "discount_price=cover_price*discount\n",
    "cover_price_after_discount=cover_price-discount_price\n",
    "total_additional_copies=total_copies-1\n",
    "shipping_cost_for_total_additional_copies=total_additional_copies*shipping_cost_for_each_additional_copy\n",
    "cover_price_for_total_copies=cover_price_after_discount*total_copies\n",
    "total_wholesale_cost=(cover_price_for_total_copies+shipping_cost_for_total_additional_copies+shipping_cost_for_the_first_copy)"
   ]
  },
  {
   "cell_type": "code",
   "execution_count": 14,
   "metadata": {},
   "outputs": [
    {
     "name": "stdout",
     "output_type": "stream",
     "text": [
      "Total wholesale cost for 60 copies: Rs. 945.4499999999999\n"
     ]
    }
   ],
   "source": [
    "print(\"Total wholesale cost for 60 copies: Rs.\",total_wholesale_cost)"
   ]
  }
 ],
 "metadata": {
  "kernelspec": {
   "display_name": "Python 3 (ipykernel)",
   "language": "python",
   "name": "python3"
  },
  "language_info": {
   "codemirror_mode": {
    "name": "ipython",
    "version": 3
   },
   "file_extension": ".py",
   "mimetype": "text/x-python",
   "name": "python",
   "nbconvert_exporter": "python",
   "pygments_lexer": "ipython3",
   "version": "3.10.9"
  }
 },
 "nbformat": 4,
 "nbformat_minor": 4
}
