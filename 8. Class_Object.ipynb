{
 "cells": [
  {
   "cell_type": "markdown",
   "metadata": {
    "id": "UlTyvTnVDRXI"
   },
   "source": [
    "## 1. Create Python class named `Student` and display its type"
   ]
  },
  {
   "cell_type": "code",
   "execution_count": 1,
   "metadata": {},
   "outputs": [
    {
     "name": "stdout",
     "output_type": "stream",
     "text": [
      "<class 'type'>\n"
     ]
    }
   ],
   "source": [
    "class Student:\n",
    "    pass\n",
    "print(type(Student))"
   ]
  },
  {
   "cell_type": "markdown",
   "metadata": {
    "id": "nYjL6Efcx6ad"
   },
   "source": [
    "## 2. How to call a variable and function by creating a simple class\n"
   ]
  },
  {
   "cell_type": "code",
   "execution_count": 2,
   "metadata": {},
   "outputs": [
    {
     "name": "stdout",
     "output_type": "stream",
     "text": [
      "This is Variable1\n",
      "I'm from function This is Variable1\n"
     ]
    }
   ],
   "source": [
    "class Dog:\n",
    "    def __init__(self):\n",
    "        print('This is Variable1')\n",
    "    def function(self):\n",
    "        print(\"I'm from function This is Variable1\")\n",
    "        \n",
    "c1=Dog()\n",
    "c1.function()"
   ]
  },
  {
   "cell_type": "markdown",
   "metadata": {
    "id": "Qrn6EsJ7putu"
   },
   "source": [
    "## 3. Create a class with one `static variable` and two `instace variables`"
   ]
  },
  {
   "cell_type": "code",
   "execution_count": 3,
   "metadata": {},
   "outputs": [
    {
     "name": "stdout",
     "output_type": "stream",
     "text": [
      "I am Static variable\n",
      "instance_var1\n",
      "instance_var2\n"
     ]
    }
   ],
   "source": [
    "class Demo():\n",
    "    var1='I am Static variable'\n",
    "    def __init__(self,a,b):\n",
    "        self.instance1=a\n",
    "        self.instance2=b\n",
    "        \n",
    "c2=Demo('instance_var1','instance_var2')\n",
    "print(Demo.var1)\n",
    "print(c2.instance1)\n",
    "print(c2.instance2)"
   ]
  },
  {
   "cell_type": "markdown",
   "metadata": {
    "id": "m2__2x3B_gub"
   },
   "source": [
    "## 4. Create a `Vehicle` class with max_speed and mileage instance attributes"
   ]
  },
  {
   "cell_type": "code",
   "execution_count": 4,
   "metadata": {
    "id": "4M2ggFoC_hqV"
   },
   "outputs": [
    {
     "name": "stdout",
     "output_type": "stream",
     "text": [
      "240 18\n"
     ]
    }
   ],
   "source": [
    "class Vehicle:\n",
    "    def __init__(self,max_speed,mileage):\n",
    "        self.max_speed=max_speed\n",
    "        self.mileage=mileage\n",
    "        print(self.max_speed , self.mileage)\n",
    "        \n",
    "v1=Vehicle(240,18)"
   ]
  },
  {
   "cell_type": "markdown",
   "metadata": {
    "id": "dGGYG_Sm1N4y"
   },
   "source": [
    "## 5. Create a simple class `Person` with constructer and one argument `name`"
   ]
  },
  {
   "cell_type": "code",
   "execution_count": 5,
   "metadata": {
    "id": "zkAdBgQP1bNW"
   },
   "outputs": [
    {
     "name": "stdout",
     "output_type": "stream",
     "text": [
      "Hello, my name is Ram\n"
     ]
    }
   ],
   "source": [
    "class Person:\n",
    "    def __init__(self,name):\n",
    "        self.name=name\n",
    "    def say_hi(self):\n",
    "        print(f'Hello, my name is {self.name}')\n",
    "    \n",
    "p=Person('Ram')\n",
    "p.say_hi()"
   ]
  },
  {
   "cell_type": "markdown",
   "metadata": {
    "id": "T9AQ6X3i2k6l"
   },
   "source": [
    "## 6. Create a class for `Students` information like `name, rollno, marks` and `school name` with static variable.\n",
    "- create a function for displaying student information\n",
    "- create one more function for getting students marks and percentage "
   ]
  },
  {
   "cell_type": "code",
   "execution_count": 6,
   "metadata": {},
   "outputs": [
    {
     "name": "stdout",
     "output_type": "stream",
     "text": [
      "Name: abc, RollNo: 1, Marks: 399, College: DIT\n",
      "Dictionary : {'name': 'abc', 'rollNo': 1, 'marks': 399}\n",
      "percentage of 399 out of 500 is :79.80000000000001\n"
     ]
    }
   ],
   "source": [
    "class Student:\n",
    "    def __init__(self,name,rollNo,marks):\n",
    "        self.name=name\n",
    "        self.rollNo=rollNo\n",
    "        self.marks=marks\n",
    "    def college(self,college):\n",
    "        self.college=college\n",
    "    def display(self):\n",
    "        print(f'Name: {self.name}, RollNo: {self.rollNo}, Marks: {self.marks}, College: {self.college}')\n",
    "    def get_percentage(self):\n",
    "        print(f'percentage of {self.marks} out of 500 is :{self.marks/500*100}')\n",
    "        \n",
    "s1 = Student('abc',1,399)\n",
    "s1.college('DIT')\n",
    "s1.display()\n",
    "s2=Student('abc',1,399)\n",
    "d=s2.__dict__\n",
    "print('Dictionary :',d)\n",
    "s1.get_percentage()"
   ]
  },
  {
   "cell_type": "markdown",
   "metadata": {
    "id": "x-zGvkOi_9PD"
   },
   "source": [
    "## 7. Create a child class `Bus` that will inherit all of the variables and methods of the `Vehicle` class"
   ]
  },
  {
   "cell_type": "code",
   "execution_count": 7,
   "metadata": {
    "id": "5IppTc73__tp"
   },
   "outputs": [
    {
     "name": "stdout",
     "output_type": "stream",
     "text": [
      "Vehicle Name: School Bus  Speed: 180  Mileage: 12\n"
     ]
    }
   ],
   "source": [
    "class Vehicle:\n",
    "    def speed(self,speed):\n",
    "        self.speed=speed\n",
    "    def mileage(self,mileage):\n",
    "        self.mileage=mileage\n",
    "class Bus(Vehicle):\n",
    "    def vehicle_name(self,name):\n",
    "        self.name=name\n",
    "    def get_details(self):\n",
    "        print(f'Vehicle Name: {self.name}  Speed: {self.speed}  Mileage: {self.mileage}')\n",
    "        \n",
    "s2=Bus()\n",
    "s2.speed(180)\n",
    "s2.mileage(12)\n",
    "s2.vehicle_name('School Bus')\n",
    "s2.get_details()"
   ]
  },
  {
   "cell_type": "markdown",
   "metadata": {
    "id": "Cex1VHlicvR0"
   },
   "source": [
    "## 8. Create a class `Employee` with two arguments `name and salary`\n",
    "- create a function which displays the employee information\n",
    "- Print total number of employees "
   ]
  },
  {
   "cell_type": "code",
   "execution_count": 8,
   "metadata": {},
   "outputs": [
    {
     "name": "stdout",
     "output_type": "stream",
     "text": [
      "Name : Zara , Salary : 2000\n",
      "Name : Manni , Salary : 5000\n",
      "Total Employee  2\n"
     ]
    }
   ],
   "source": [
    "class Employee:\n",
    "    count=0\n",
    "    def __init__(self,name,salary):\n",
    "        self.name=name\n",
    "        self.salary=salary\n",
    "        Employee.count+=1\n",
    "    def emp_details(self):\n",
    "        print(f'Name : {self.name} , Salary : {self.salary}')\n",
    "        \n",
    "e1=Employee('Zara',2000)\n",
    "e2=Employee('Manni',5000)\n",
    "e1.emp_details()\n",
    "e2.emp_details()\n",
    "print('Total Employee ',Employee.count)"
   ]
  }
 ],
 "metadata": {
  "colab": {
   "collapsed_sections": [],
   "name": "Class_Object_Asignment.ipynb",
   "provenance": []
  },
  "kernelspec": {
   "display_name": "Python 3 (ipykernel)",
   "language": "python",
   "name": "python3"
  },
  "language_info": {
   "codemirror_mode": {
    "name": "ipython",
    "version": 3
   },
   "file_extension": ".py",
   "mimetype": "text/x-python",
   "name": "python",
   "nbconvert_exporter": "python",
   "pygments_lexer": "ipython3",
   "version": "3.10.9"
  }
 },
 "nbformat": 4,
 "nbformat_minor": 4
}
